{
 "cells": [
  {
   "cell_type": "markdown",
   "metadata": {
    "pycharm": {
     "name": "#%% md\n"
    }
   },
   "source": [
    "## Instances initialization"
   ]
  },
  {
   "cell_type": "code",
   "execution_count": 3,
   "metadata": {
    "pycharm": {
     "name": "#%%\n"
    }
   },
   "outputs": [],
   "source": [
    "from main import *\n",
    "import random\n",
    "\n",
    "items, knapsack, optimum = open_instance(\"../instances/chubeas/OR5x100/OR5x100.dat\")\n",
    "#ks = Knapsack(knapsack[0], items[0])\n",
    "#print(ks.fit())"
   ]
  },
  {
   "cell_type": "markdown",
   "metadata": {
    "pycharm": {
     "name": "#%% md\n"
    }
   },
   "source": [
    "## GWO\n",
    "### Population initialization"
   ]
  },
  {
   "cell_type": "code",
   "execution_count": 4,
   "metadata": {
    "pycharm": {
     "name": "#%%\n"
    }
   },
   "outputs": [
    {
     "ename": "TypeError",
     "evalue": "'<' not supported between instances of 'int' and 'list'",
     "output_type": "error",
     "traceback": [
      "\u001b[0;31m---------------------------------------------------------------------------\u001b[0m",
      "\u001b[0;31mTypeError\u001b[0m                                 Traceback (most recent call last)",
      "Input \u001b[0;32mIn [4]\u001b[0m, in \u001b[0;36m<module>\u001b[0;34m\u001b[0m\n\u001b[1;32m     35\u001b[0m                 population \u001b[38;5;241m+\u001b[39m\u001b[38;5;241m=\u001b[39m [ks]\n\u001b[1;32m     37\u001b[0m     \u001b[38;5;28;01mreturn\u001b[39;00m population\n\u001b[0;32m---> 39\u001b[0m \u001b[43mpop_init\u001b[49m\u001b[43m(\u001b[49m\u001b[38;5;241;43m10\u001b[39;49m\u001b[43m,\u001b[49m\u001b[43m \u001b[49m\u001b[43mitems\u001b[49m\u001b[43m[\u001b[49m\u001b[38;5;241;43m0\u001b[39;49m\u001b[43m]\u001b[49m\u001b[43m,\u001b[49m\u001b[43m \u001b[49m\u001b[43mknapsack\u001b[49m\u001b[43m)\u001b[49m\n",
      "Input \u001b[0;32mIn [4]\u001b[0m, in \u001b[0;36mpop_init\u001b[0;34m(population_size, list_items, list_constraints)\u001b[0m\n\u001b[1;32m     20\u001b[0m ks \u001b[38;5;241m=\u001b[39m Knapsack(list_constraints, list_items)\n\u001b[1;32m     21\u001b[0m \u001b[38;5;28;01mfor\u001b[39;00m j \u001b[38;5;129;01min\u001b[39;00m \u001b[38;5;28mrange\u001b[39m(\u001b[38;5;28mlen\u001b[39m(list_items)):\n\u001b[1;32m     22\u001b[0m     \u001b[38;5;66;03m# In descending of the pseudo utility -> sort before\u001b[39;00m\n\u001b[1;32m     23\u001b[0m \n\u001b[1;32m     24\u001b[0m     \u001b[38;5;66;03m# Test if all accumulated resources are inferior to the constraints of the ks\u001b[39;00m\n\u001b[1;32m     25\u001b[0m     \u001b[38;5;28;01mif\u001b[39;00m random\u001b[38;5;241m.\u001b[39mrandom() \u001b[38;5;241m<\u001b[39m \u001b[38;5;241m0.5\u001b[39m \\\n\u001b[0;32m---> 26\u001b[0m             \u001b[38;5;129;01mand\u001b[39;00m \u001b[38;5;129;01mnot\u001b[39;00m \u001b[38;5;28;01mFalse\u001b[39;00m \u001b[38;5;129;01min\u001b[39;00m [x \u001b[38;5;241m<\u001b[39m y \u001b[38;5;28;01mfor\u001b[39;00m x, y \u001b[38;5;129;01min\u001b[39;00m\n\u001b[1;32m     27\u001b[0m                               \u001b[38;5;28mzip\u001b[39m([a\u001b[38;5;241m+\u001b[39mb \u001b[38;5;28;01mfor\u001b[39;00m a,b \u001b[38;5;129;01min\u001b[39;00m\n\u001b[1;32m     28\u001b[0m                                    \u001b[38;5;28mzip\u001b[39m(accumulated_resources, list_items[j]\u001b[38;5;241m.\u001b[39mweight)], ks\u001b[38;5;241m.\u001b[39mconstraints)]:\n\u001b[1;32m     29\u001b[0m         ks\u001b[38;5;241m.\u001b[39mks[j] \u001b[38;5;241m=\u001b[39m \u001b[38;5;241m1\u001b[39m\n\u001b[1;32m     30\u001b[0m         \u001b[38;5;66;03m# doesn't compute fitness as it is calculated via a method of ks\u001b[39;00m\n\u001b[1;32m     31\u001b[0m         \u001b[38;5;66;03m# fitness = fit(ks)\u001b[39;00m\n\u001b[1;32m     32\u001b[0m \n\u001b[1;32m     33\u001b[0m         \u001b[38;5;66;03m# Add all sizes of current item to the accumulated resources\u001b[39;00m\n",
      "Input \u001b[0;32mIn [4]\u001b[0m, in \u001b[0;36m<listcomp>\u001b[0;34m(.0)\u001b[0m\n\u001b[1;32m     20\u001b[0m ks \u001b[38;5;241m=\u001b[39m Knapsack(list_constraints, list_items)\n\u001b[1;32m     21\u001b[0m \u001b[38;5;28;01mfor\u001b[39;00m j \u001b[38;5;129;01min\u001b[39;00m \u001b[38;5;28mrange\u001b[39m(\u001b[38;5;28mlen\u001b[39m(list_items)):\n\u001b[1;32m     22\u001b[0m     \u001b[38;5;66;03m# In descending of the pseudo utility -> sort before\u001b[39;00m\n\u001b[1;32m     23\u001b[0m \n\u001b[1;32m     24\u001b[0m     \u001b[38;5;66;03m# Test if all accumulated resources are inferior to the constraints of the ks\u001b[39;00m\n\u001b[1;32m     25\u001b[0m     \u001b[38;5;28;01mif\u001b[39;00m random\u001b[38;5;241m.\u001b[39mrandom() \u001b[38;5;241m<\u001b[39m \u001b[38;5;241m0.5\u001b[39m \\\n\u001b[0;32m---> 26\u001b[0m             \u001b[38;5;129;01mand\u001b[39;00m \u001b[38;5;129;01mnot\u001b[39;00m \u001b[38;5;28;01mFalse\u001b[39;00m \u001b[38;5;129;01min\u001b[39;00m [\u001b[43mx\u001b[49m\u001b[43m \u001b[49m\u001b[38;5;241;43m<\u001b[39;49m\u001b[43m \u001b[49m\u001b[43my\u001b[49m \u001b[38;5;28;01mfor\u001b[39;00m x, y \u001b[38;5;129;01min\u001b[39;00m\n\u001b[1;32m     27\u001b[0m                               \u001b[38;5;28mzip\u001b[39m([a\u001b[38;5;241m+\u001b[39mb \u001b[38;5;28;01mfor\u001b[39;00m a,b \u001b[38;5;129;01min\u001b[39;00m\n\u001b[1;32m     28\u001b[0m                                    \u001b[38;5;28mzip\u001b[39m(accumulated_resources, list_items[j]\u001b[38;5;241m.\u001b[39mweight)], ks\u001b[38;5;241m.\u001b[39mconstraints)]:\n\u001b[1;32m     29\u001b[0m         ks\u001b[38;5;241m.\u001b[39mks[j] \u001b[38;5;241m=\u001b[39m \u001b[38;5;241m1\u001b[39m\n\u001b[1;32m     30\u001b[0m         \u001b[38;5;66;03m# doesn't compute fitness as it is calculated via a method of ks\u001b[39;00m\n\u001b[1;32m     31\u001b[0m         \u001b[38;5;66;03m# fitness = fit(ks)\u001b[39;00m\n\u001b[1;32m     32\u001b[0m \n\u001b[1;32m     33\u001b[0m         \u001b[38;5;66;03m# Add all sizes of current item to the accumulated resources\u001b[39;00m\n",
      "\u001b[0;31mTypeError\u001b[0m: '<' not supported between instances of 'int' and 'list'"
     ]
    }
   ],
   "source": [
    "# Accumulated resources as list of dimensions ?\n",
    "def pop_init(population_size, list_items, list_constraints):\n",
    "    \"\"\"\n",
    "    Initialize a population of \"elite\" solutions\n",
    "\n",
    "    :param population_size: Size of the population\n",
    "    :type population_size: int\n",
    "    :param list_items: List of items for the MKP\n",
    "    :type list_items: list of Item\n",
    "    :param list_constraints: List of constraints for this knapsack\n",
    "    :type list_constraints: list of int\n",
    "\n",
    "    :rtype: list of Knapsack\n",
    "    :return: The population\n",
    "    \"\"\"\n",
    "    population = []\n",
    "\n",
    "    for k in range(population_size):\n",
    "        accumulated_resources = [0]*len(list_constraints)\n",
    "        ks = Knapsack(list_constraints, list_items)\n",
    "        for j in range(len(list_items)):\n",
    "            # In descending of the pseudo utility -> sort before\n",
    "\n",
    "            # Test if all accumulated resources are inferior to the constraints of the ks\n",
    "            if random.random() < 0.5 \\\n",
    "                    and not False in [x < y for x, y in\n",
    "                                      zip([a+b for a,b in\n",
    "                                           zip(accumulated_resources, list_items[j].weight)], ks.constraints)]:\n",
    "                ks.ks[j] = 1\n",
    "                # doesn't compute fitness as it is calculated via a method of ks\n",
    "                # fitness = fit(ks)\n",
    "\n",
    "                # Add all sizes of current item to the accumulated resources\n",
    "                accumulated_resources = [x+y for x,y in zip(accumulated_resources, list_items[j].weight)]\n",
    "                population += [ks]\n",
    "\n",
    "    return population\n",
    "\n",
    "pop_init(10, items[0], knapsack)"
   ]
  },
  {
   "cell_type": "markdown",
   "metadata": {
    "pycharm": {
     "name": "#%% md\n"
    }
   },
   "source": [
    "### Selection"
   ]
  },
  {
   "cell_type": "code",
   "execution_count": null,
   "metadata": {
    "pycharm": {
     "name": "#%%\n"
    }
   },
   "outputs": [],
   "source": [
    "def select_wolves(population):\n",
    "    return sorted(population, key=lambda x: x.fit(), reverse=True)[-3:]\n",
    "\n"
   ]
  },
  {
   "cell_type": "markdown",
   "metadata": {},
   "source": [
    "### generation of solution"
   ]
  },
  {
   "cell_type": "markdown",
   "metadata": {
    "pycharm": {
     "name": "#%% md\n"
    }
   },
   "source": [
    "##### $x^{p}_{j}(t) = \\omega_{\\alpha}*x^{\\alpha}_{j}(t) + \\omega_{\\beta}*x^{\\beta}_{j}(t) + \\omega_{\\delta}*x^{\\delta}_{j}(t) + \\epsilon(t)$"
   ]
  },
  {
   "cell_type": "code",
   "execution_count": null,
   "metadata": {
    "pycharm": {
     "name": "#%%\n"
    }
   },
   "outputs": [],
   "source": [
    "# Generate an estimation of the position of the \"prey\" aka wanted solution\n",
    "# Problem, the solution isn't binary\n",
    "def generate_prey(alpha, beta, delta):\n",
    "    total_fitness = alpha.fit() + beta.fit() + delta.fit()\n",
    "    weightA = alpha.fit()/total_fitness\n",
    "    weightB = beta.fit()/total_fitness\n",
    "    weightD = delta.fit()/total_fitness\n",
    "\n",
    "    return [alpha.ks[x]*weightA+beta.ks[x]*weightB+delta.ks[x]*weightD\n",
    "            for x in range(len(alpha.ks))]\n",
    "\n",
    "# Generate a trial solution\n",
    "def generate_sol():\n",
    "    pass\n"
   ]
  },
  {
   "cell_type": "markdown",
   "metadata": {},
   "source": [
    "### repair"
   ]
  },
  {
   "cell_type": "code",
   "execution_count": null,
   "metadata": {
    "pycharm": {
     "name": "#%%\n"
    }
   },
   "outputs": [],
   "source": [
    "def repair(individual):\n",
    "    pass"
   ]
  },
  {
   "cell_type": "markdown",
   "metadata": {
    "pycharm": {
     "name": "#%% md\n"
    }
   },
   "source": [
    "### Algorithm"
   ]
  },
  {
   "cell_type": "code",
   "execution_count": null,
   "metadata": {
    "pycharm": {
     "name": "#%%\n"
    }
   },
   "outputs": [],
   "source": [
    "# Init\n",
    "# generate sol + repair + fit\n",
    "# inclusion\n",
    "\n",
    "def gwo(max_iteration, list_items, list_constraints):\n",
    "    pop = pop_init(max_iteration, list_items, list_constraints)\n",
    "    alpha, beta, delta = select_wolves(pop)\n",
    "\n",
    "    for iteration in range(max_iteration):\n",
    "        # Estimate location of prey\n",
    "        prey = generate_prey(alpha, beta, delta)\n",
    "\n",
    "        for individual in pop():\n",
    "            # Okay need to do it differently when I will have to make\n",
    "            # Something general\n",
    "            trial_solution = None\n",
    "            for dimension in individual.ks:\n",
    "                trial_solution = generate_sol()\n",
    "\n",
    "            trial_solution = repair(trial_solution)\n",
    "\n",
    "            # Might want to make it differently\n",
    "            # Or call fit(trial_solution) and have it make trial_solution.fit()\n",
    "            if trial_solution.fit() > individual.fit():\n",
    "                # Trial solution or trial solution.ks for individual.ks ?\n",
    "                individual = trial_solution\n",
    "\n",
    "                if trial_solution.fit() > alpha.fit():\n",
    "                    alpha = trial_solution\n",
    "\n",
    "                if trial_solution.fit() > beta.fit():\n",
    "                    beta = trial_solution\n",
    "\n",
    "                if trial_solution.fit() > delta.fit():\n",
    "                    delta = trial_solution\n",
    "            else:\n",
    "                individual = trial_solution\n",
    "\n",
    "\n",
    "\n"
   ]
  }
 ],
 "metadata": {
  "kernelspec": {
   "display_name": "Python 3 (ipykernel)",
   "language": "python",
   "name": "python3"
  },
  "language_info": {
   "codemirror_mode": {
    "name": "ipython",
    "version": 3
   },
   "file_extension": ".py",
   "mimetype": "text/x-python",
   "name": "python",
   "nbconvert_exporter": "python",
   "pygments_lexer": "ipython3",
   "version": "3.9.10"
  }
 },
 "nbformat": 4,
 "nbformat_minor": 1
}
