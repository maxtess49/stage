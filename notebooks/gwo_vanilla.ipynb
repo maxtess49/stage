{
 "cells": [
  {
   "cell_type": "markdown",
   "metadata": {
    "pycharm": {
     "name": "#%% md\n"
    }
   },
   "source": [
    "## Instances initialization"
   ]
  },
  {
   "cell_type": "code",
   "execution_count": 91,
   "metadata": {
    "pycharm": {
     "name": "#%%\n"
    }
   },
   "outputs": [],
   "source": [
    "from models.mkp import *\n",
    "import random\n",
    "import math\n",
    "\n",
    "items, knapsack, optimum = open_instance(\"../instances/gk/gk01.dat\")\n",
    "#knap = Knapsack(knapsack[0], items[0])\n",
    "#knap.pseudo_utility()\n",
    "#print(knap.fit())\n",
    "#print(Knapsack.pseudo_utilities)"
   ]
  },
  {
   "cell_type": "markdown",
   "metadata": {
    "pycharm": {
     "name": "#%% md\n"
    }
   },
   "source": [
    "## GWO\n",
    "### Population initialization\n",
    "Using pseudo-utility"
   ]
  },
  {
   "cell_type": "code",
   "execution_count": 83,
   "metadata": {
    "pycharm": {
     "name": "#%%\n"
    }
   },
   "outputs": [],
   "source": [
    "# Accumulated resources as list of dimensions ?\n",
    "def pop_init_pseudo(population_size, list_items, list_constraints):\n",
    "    \"\"\"\n",
    "    Initialize a population of \"elite\" solutions\n",
    "\n",
    "    :param population_size: Size of the population\n",
    "    :type population_size: int\n",
    "    :param list_items: List of items for the MKP\n",
    "    :type list_items: list of Item\n",
    "    :param list_constraints: List of constraints for this knapsack\n",
    "    :type list_constraints: list of int\n",
    "\n",
    "    :rtype: list of Knapsack\n",
    "    :return: The population\n",
    "    \"\"\"\n",
    "    population = []\n",
    "\n",
    "    for k in range(population_size):\n",
    "        accumulated_resources = [0]*len(list_constraints)\n",
    "        ks = Knapsack(list_constraints, list_items)\n",
    "        #TODO not list item but list of items in descending order of the pseudo utility\n",
    "        for j in Knapsack.pseudo_utilities:\n",
    "            # In descending of the pseudo utility\n",
    "\n",
    "            # Test if all accumulated resources + new object are inferior to the constraints of the ks\n",
    "            if random.random() < 0.5 \\\n",
    "                    and not False in [x < y for x, y in\n",
    "                                      zip([a+b for a,b in\n",
    "                                           zip(accumulated_resources, list_items[j].weight)], ks.constraints)]:\n",
    "                ks.ks[j] = 1\n",
    "                # doesn't compute fitness as it is calculated via a method of ks\n",
    "                # fitness = fit(ks)\n",
    "\n",
    "                # Add all sizes of current item to the accumulated resources\n",
    "                accumulated_resources = [x+y for x,y in zip(accumulated_resources, list_items[j].weight)]\n",
    "        population += [ks]\n",
    "\n",
    "    return population\n",
    "\n",
    "#p = pop_init_pseudo(10, items[0], knapsack[0])\n",
    "#print(p)"
   ]
  },
  {
   "cell_type": "markdown",
   "source": [
    "Initializing at 0"
   ],
   "metadata": {
    "collapsed": false,
    "pycharm": {
     "name": "#%% md\n"
    }
   }
  },
  {
   "cell_type": "code",
   "execution_count": 84,
   "outputs": [],
   "source": [
    "def pop_init_zero(population_size, list_items, list_constraints):\n",
    "    \"\"\"\n",
    "    Initialize a population of \"elite\" solutions\n",
    "\n",
    "    :param population_size: Size of the population\n",
    "    :type population_size: int\n",
    "    :param list_items: List of items for the MKP\n",
    "    :type list_items: list of Item\n",
    "    :param list_constraints: List of constraints for this knapsack\n",
    "    :type list_constraints: list of int\n",
    "\n",
    "    :rtype: list of Knapsack\n",
    "    :return: The population\n",
    "    \"\"\"\n",
    "    population = []\n",
    "\n",
    "    for k in range(population_size):\n",
    "        ks = Knapsack(list_constraints, list_items)\n",
    "        ks.ks = [0]*len(list_items)\n",
    "        population += [ks]\n",
    "    return population\n",
    "\n",
    "#p = pop_init_zero(10, items[0], knapsack[0])\n",
    "#print(p)"
   ],
   "metadata": {
    "collapsed": false,
    "pycharm": {
     "name": "#%%\n"
    }
   }
  },
  {
   "cell_type": "markdown",
   "source": [
    "Random initialization"
   ],
   "metadata": {
    "collapsed": false
   }
  },
  {
   "cell_type": "code",
   "execution_count": 85,
   "outputs": [],
   "source": [
    "def pop_init_random(population_size, list_items, list_constraints):\n",
    "    \"\"\"\n",
    "    Initialize a population of \"elite\" solutions\n",
    "\n",
    "    :param population_size: Size of the population\n",
    "    :type population_size: int\n",
    "    :param list_items: List of items for the MKP\n",
    "    :type list_items: list of Item\n",
    "    :param list_constraints: List of constraints for this knapsack\n",
    "    :type list_constraints: list of int\n",
    "\n",
    "    :rtype: list of Knapsack\n",
    "    :return: The population\n",
    "    \"\"\"\n",
    "    population = []\n",
    "\n",
    "    for k in range(population_size):\n",
    "        ks = Knapsack(list_constraints, list_items)\n",
    "        for i in range(len(list_items)):\n",
    "            if random.random() < 0.5:\n",
    "                ks.ks[i] = 1\n",
    "        population += [ks]\n",
    "    return population\n",
    "\n",
    "#p = pop_init_random(10, items[0], knapsack[0])\n",
    "#print(p)\n"
   ],
   "metadata": {
    "collapsed": false,
    "pycharm": {
     "name": "#%%\n"
    }
   }
  },
  {
   "cell_type": "markdown",
   "metadata": {
    "pycharm": {
     "name": "#%% md\n"
    }
   },
   "source": [
    "### Selection"
   ]
  },
  {
   "cell_type": "code",
   "execution_count": 86,
   "metadata": {
    "pycharm": {
     "name": "#%%\n"
    }
   },
   "outputs": [],
   "source": [
    "def select_wolves(population):\n",
    "    \"\"\"\n",
    "    Select the 3 best wolves\n",
    "\n",
    "    :param population: Population in which we search\n",
    "    :type population: list of Knapsack\n",
    "\n",
    "    :rtype: (Knapsack, Knapsack, Knapsack)\n",
    "    :return: The 3 best wolves\n",
    "    \"\"\"\n",
    "    return sorted(population, key=lambda x: x.fit())[:3]\n",
    "\n"
   ]
  },
  {
   "cell_type": "markdown",
   "metadata": {},
   "source": [
    "### generation of solution"
   ]
  },
  {
   "cell_type": "markdown",
   "metadata": {
    "pycharm": {
     "name": "#%% md\n"
    }
   },
   "source": [
    "##### $x^{p}_{j}(t) = \\omega_{\\alpha}*x^{\\alpha}_{j}(t) + \\omega_{\\beta}*x^{\\beta}_{j}(t) + \\omega_{\\delta}*x^{\\delta}_{j}(t) + \\epsilon(t)$"
   ]
  },
  {
   "cell_type": "code",
   "execution_count": 87,
   "metadata": {
    "pycharm": {
     "name": "#%%\n"
    }
   },
   "outputs": [],
   "source": [
    "# Generate an estimation of the position of the \"prey\" aka wanted solution\n",
    "# Problem, the solution isn't binary\n",
    "def generate_prey(alpha, beta, delta):\n",
    "    \"\"\"\n",
    "    Generate the solution we search (the prey)\n",
    "\n",
    "    :param alpha: The alpha wolf\n",
    "    :type alpha: Knapsack\n",
    "    :param beta: The beta wolf\n",
    "    :type beta: Knapsack\n",
    "    :param delta: The delta wolf\n",
    "    :type delta: Knapsack\n",
    "\n",
    "    :rtype: list of float\n",
    "    :return: The \"prey\" as a list of float\n",
    "    \"\"\"\n",
    "    total_fitness = alpha.fit() + beta.fit() + delta.fit()\n",
    "    if total_fitness != 0:\n",
    "        weightA = alpha.fit()/total_fitness\n",
    "        weightB = beta.fit()/total_fitness\n",
    "        weightD = delta.fit()/total_fitness\n",
    "    else:\n",
    "        weightA = 0\n",
    "        weightB = 0\n",
    "        weightD = 0\n",
    "\n",
    "    return [alpha.ks[x]*weightA+beta.ks[x]*weightB+delta.ks[x]*weightD\n",
    "            for x in range(len(alpha.ks))]"
   ]
  },
  {
   "cell_type": "markdown",
   "source": [
    "$y = x^{p}_{j}(t) - r1 * |x^{p}_{j}(t) - x^{k}_{j}(t)| $ </br>\n",
    "$z^{k}_{j} = \\begin{cases} 1, if \\; \\; r_{2} < \\phi(y) \\\\ 0, otherwise \\end{cases}$ </br>\n",
    "$\\phi(y)$ -> transform function -> 6 different see paper </br>\n",
    "$\\phi(y) = |tanh(y)|$ is the best ranked according to paper"
   ],
   "metadata": {
    "collapsed": false,
    "pycharm": {
     "name": "#%% md\n"
    }
   }
  },
  {
   "cell_type": "code",
   "execution_count": 88,
   "outputs": [],
   "source": [
    "# Generate a trial solution\n",
    "def generate_sol(prey, individual, transform_function=math.tanh):\n",
    "    \"\"\"\n",
    "    Generate a trial solution from the prey\n",
    "\n",
    "    :param prey: The researched solution\n",
    "    :type prey: list of float\n",
    "    :param individual: The current individual\n",
    "    :type individual: Knapsack\n",
    "    :param transform_function: Transform function real to integer\n",
    "    :type transform_function: typing.Callable\n",
    "\n",
    "    :rtype: Knapsack\n",
    "    :return: A trial solution\n",
    "    \"\"\"\n",
    "    r = random.uniform(-2, 2)\n",
    "    trial_list = [x - r * abs(x - y) for x, y in zip(prey, individual.ks)]\n",
    "    trial = [1 if random.uniform(0, 1) < transform_function(x) else 0 for x in trial_list]\n",
    "\n",
    "    ks = Knapsack(individual.constraints, individual.items)\n",
    "    ks.ks = trial[:]\n",
    "\n",
    "    return ks"
   ],
   "metadata": {
    "collapsed": false,
    "pycharm": {
     "name": "#%%\n"
    }
   }
  },
  {
   "cell_type": "markdown",
   "metadata": {},
   "source": [
    "### repair\n",
    "Algo 2 papier"
   ]
  },
  {
   "cell_type": "code",
   "execution_count": 89,
   "metadata": {
    "pycharm": {
     "name": "#%%\n"
    }
   },
   "outputs": [],
   "source": [
    "def repair(individual):\n",
    "    \"\"\"\n",
    "    Repair the solution given\n",
    "\n",
    "    :param individual: A solution to repair\n",
    "    :type individual: Knapsack\n",
    "\n",
    "    :rtype: None\n",
    "    :return: Does not return anything, modify the individual given\n",
    "    \"\"\"\n",
    "    resource_consumption = []\n",
    "    for weight_i in range(len(individual.constraints)):\n",
    "        resource_consumption += [sum([Knapsack.items[i].weight[weight_i] for i, val in enumerate(individual.ks) if val == 1])]\n",
    "\n",
    "    for i in reversed(Knapsack.pseudo_utilities):\n",
    "        # Test if all the constraints are respected\n",
    "        if False in [res <= const for res, const in zip(resource_consumption, individual.constraints)]:\n",
    "            if individual.ks[i] == 1:\n",
    "                individual.ks[i] = 0\n",
    "                for j in range(len(Knapsack.items[i].weight)):\n",
    "                    resource_consumption[j] -= Knapsack.items[i].weight[j]\n",
    "\n",
    "    for i in Knapsack.pseudo_utilities:\n",
    "        if not (False in [res+weight <= const for res, const, weight in zip(resource_consumption, individual.constraints, Knapsack.items[i].weight)]):\n",
    "            if individual.ks[i] == 0:\n",
    "                individual.ks[i] = 1\n",
    "                for j in range(len(Knapsack.items[i].weight)):\n",
    "                    resource_consumption[j] += Knapsack.items[i].weight[j]\n",
    "\n",
    "#print(knap.ks)\n",
    "#repair(knap)\n",
    "#print(knap.ks)\n",
    "#print(knap.fit())"
   ]
  },
  {
   "cell_type": "markdown",
   "metadata": {
    "pycharm": {
     "name": "#%% md\n"
    }
   },
   "source": [
    "### Algorithm"
   ]
  },
  {
   "cell_type": "code",
   "execution_count": 90,
   "metadata": {
    "pycharm": {
     "name": "#%%\n"
    }
   },
   "outputs": [
    {
     "name": "stdout",
     "output_type": "stream",
     "text": [
      "0 : 3727\n",
      "3753\n",
      "3753\n",
      "3753\n",
      "3766\n"
     ]
    }
   ],
   "source": [
    "# Init\n",
    "# generate sol + repair + fit\n",
    "# inclusion\n",
    "\n",
    "def gwo(max_iteration, list_items, list_constraints, population_size):\n",
    "    \"\"\"\n",
    "    Binary grey wolf optimization algorithm\n",
    "\n",
    "    :param max_iteration: Max n° of iterations\n",
    "    :type max_iteration: int\n",
    "    :param list_items: List of items of the problem\n",
    "    :type list_items: list of Item\n",
    "    :param list_constraints: List of constraints of the problem\n",
    "    :type list_constraints: list of int\n",
    "    :param population_size: Size of the population of wolves\n",
    "    :type population_size: int\n",
    "\n",
    "    :rtype: Knapsack, Knapsack, Knapsack\n",
    "    :return: The best solution found\n",
    "    \"\"\"\n",
    "    pop = pop_init_pseudo(population_size, list_items, list_constraints)\n",
    "    alpha, beta, delta = select_wolves(pop)\n",
    "    fit_a, fit_b, fit_d = alpha.fit(), beta.fit(), delta.fit()\n",
    "\n",
    "    for iteration in range(max_iteration):\n",
    "        # Estimate location of prey\n",
    "        prey = generate_prey(alpha, beta, delta)\n",
    "\n",
    "        for individual in pop:\n",
    "            # Can remove the for loop with list comprehension\n",
    "            # for dimension in individual.ks:\n",
    "            trial_solution = generate_sol(prey, individual)\n",
    "\n",
    "            repair(trial_solution)\n",
    "\n",
    "            # Might want to make it differently\n",
    "            # Or call fit(trial_solution) and have it make trial_solution.fit()\n",
    "            # Intensification I suppose\n",
    "            new_fitness = trial_solution.fit()\n",
    "            if new_fitness > individual.fit():\n",
    "                individual.ks = trial_solution.ks[:]\n",
    "\n",
    "                if new_fitness > fit_a:\n",
    "                    alpha.ks = trial_solution.ks[:]\n",
    "                    fit_a = alpha.fit()\n",
    "\n",
    "                elif new_fitness > fit_b:\n",
    "                    beta.ks = trial_solution.ks[:]\n",
    "                    fit_b = beta.fit()\n",
    "\n",
    "                elif new_fitness > fit_d:\n",
    "                    delta.ks = trial_solution.ks[:]\n",
    "                    fit_d = delta.fit()\n",
    "\n",
    "            # If the new solution doesn't improve, we update the individual anyway if it isn't a leader\n",
    "            # Diversification I suppose\n",
    "            elif individual != alpha and individual != beta and individual != delta:\n",
    "                individual.ks = trial_solution.ks[:]\n",
    "\n",
    "        if iteration % 1000 == 0:\n",
    "            print(str(iteration) + \" : \" + str(alpha.fit()))\n",
    "\n",
    "    return alpha, beta, delta\n",
    "\n",
    "\n",
    "for sol in gwo(10000, items[0], knapsack[0], 20):\n",
    "    print(sol.fit())\n",
    "print(optimum)"
   ]
  }
 ],
 "metadata": {
  "kernelspec": {
   "display_name": "Python 3 (ipykernel)",
   "language": "python",
   "name": "python3"
  },
  "language_info": {
   "codemirror_mode": {
    "name": "ipython",
    "version": 3
   },
   "file_extension": ".py",
   "mimetype": "text/x-python",
   "name": "python",
   "nbconvert_exporter": "python",
   "pygments_lexer": "ipython3",
   "version": "3.9.10"
  }
 },
 "nbformat": 4,
 "nbformat_minor": 1
}