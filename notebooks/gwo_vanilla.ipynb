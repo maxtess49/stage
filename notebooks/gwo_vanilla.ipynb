{
 "cells": [
  {
   "cell_type": "markdown",
   "metadata": {
    "pycharm": {
     "name": "#%% md\n"
    }
   },
   "source": [
    "## Instances initialization"
   ]
  },
  {
   "cell_type": "code",
   "execution_count": 50,
   "metadata": {
    "pycharm": {
     "name": "#%%\n"
    }
   },
   "outputs": [],
   "source": [
    "from main import *\n",
    "import random\n",
    "import math\n",
    "\n",
    "items, knapsack, optimum = open_instance(\"../instances/gk/gk01.dat\")\n",
    "#knap = Knapsack(knapsack[0], items[0])\n",
    "#print(knap.fit())\n",
    "#print(Knapsack.pseudo_utilities)"
   ]
  },
  {
   "cell_type": "markdown",
   "metadata": {
    "pycharm": {
     "name": "#%% md\n"
    }
   },
   "source": [
    "## GWO\n",
    "### Population initialization\n",
    "Using pseudo-utility"
   ]
  },
  {
   "cell_type": "code",
   "execution_count": 51,
   "metadata": {
    "pycharm": {
     "name": "#%%\n"
    }
   },
   "outputs": [],
   "source": [
    "# Accumulated resources as list of dimensions ?\n",
    "def pop_init_pseudo(population_size, list_items, list_constraints):\n",
    "    \"\"\"\n",
    "    Initialize a population of \"elite\" solutions\n",
    "\n",
    "    :param population_size: Size of the population\n",
    "    :type population_size: int\n",
    "    :param list_items: List of items for the MKP\n",
    "    :type list_items: list of Item\n",
    "    :param list_constraints: List of constraints for this knapsack\n",
    "    :type list_constraints: list of int\n",
    "\n",
    "    :rtype: list of Knapsack\n",
    "    :return: The population\n",
    "    \"\"\"\n",
    "    population = []\n",
    "\n",
    "    for k in range(population_size):\n",
    "        accumulated_resources = [0]*len(list_constraints)\n",
    "        ks = Knapsack(list_constraints, list_items)\n",
    "        #TODO not list item but list of items in descending order of the pseudo utility\n",
    "        for j in Knapsack.pseudo_utilities:\n",
    "            # In descending of the pseudo utility\n",
    "\n",
    "            # Test if all accumulated resources are inferior to the constraints of the ks\n",
    "            if random.random() < 0.5 \\\n",
    "                    and not False in [x < y for x, y in\n",
    "                                      zip([a+b for a,b in\n",
    "                                           zip(accumulated_resources, list_items[j].weight)], ks.constraints)]:\n",
    "                ks.ks[j] = 1\n",
    "                # doesn't compute fitness as it is calculated via a method of ks\n",
    "                # fitness = fit(ks)\n",
    "\n",
    "                # Add all sizes of current item to the accumulated resources\n",
    "                accumulated_resources = [x+y for x,y in zip(accumulated_resources, list_items[j].weight)]\n",
    "        population += [ks]\n",
    "\n",
    "    return population\n",
    "\n",
    "#p = pop_init_pseudo(10, items[0], knapsack[0])\n",
    "#print(p)"
   ]
  },
  {
   "cell_type": "markdown",
   "source": [
    "Initializing at 0"
   ],
   "metadata": {
    "collapsed": false,
    "pycharm": {
     "name": "#%% md\n"
    }
   }
  },
  {
   "cell_type": "code",
   "execution_count": 52,
   "outputs": [],
   "source": [
    "def pop_init_zero(population_size, list_items, list_constraints):\n",
    "    \"\"\"\n",
    "    Initialize a population of \"elite\" solutions\n",
    "\n",
    "    :param population_size: Size of the population\n",
    "    :type population_size: int\n",
    "    :param list_items: List of items for the MKP\n",
    "    :type list_items: list of Item\n",
    "    :param list_constraints: List of constraints for this knapsack\n",
    "    :type list_constraints: list of int\n",
    "\n",
    "    :rtype: list of Knapsack\n",
    "    :return: The population\n",
    "    \"\"\"\n",
    "    population = []\n",
    "\n",
    "    for k in range(population_size):\n",
    "        ks = Knapsack(list_constraints, list_items)\n",
    "        ks.ks = [0]*len(list_items)\n",
    "        population += [ks]\n",
    "    return population\n",
    "\n",
    "#p = pop_init_zero(10, items[0], knapsack[0])\n",
    "#print(p)"
   ],
   "metadata": {
    "collapsed": false,
    "pycharm": {
     "name": "#%%\n"
    }
   }
  },
  {
   "cell_type": "markdown",
   "source": [
    "Random initialization"
   ],
   "metadata": {
    "collapsed": false
   }
  },
  {
   "cell_type": "code",
   "execution_count": 53,
   "outputs": [],
   "source": [
    "def pop_init_random(population_size, list_items, list_constraints):\n",
    "    \"\"\"\n",
    "    Initialize a population of \"elite\" solutions\n",
    "\n",
    "    :param population_size: Size of the population\n",
    "    :type population_size: int\n",
    "    :param list_items: List of items for the MKP\n",
    "    :type list_items: list of Item\n",
    "    :param list_constraints: List of constraints for this knapsack\n",
    "    :type list_constraints: list of int\n",
    "\n",
    "    :rtype: list of Knapsack\n",
    "    :return: The population\n",
    "    \"\"\"\n",
    "    population = []\n",
    "\n",
    "    for k in range(population_size):\n",
    "        ks = Knapsack(list_constraints, list_items)\n",
    "        for i in range(len(list_items)):\n",
    "            if random.random() < 0.5:\n",
    "                ks.ks[i] = 1\n",
    "        population += [ks]\n",
    "    return population\n",
    "\n",
    "#p = pop_init_random(10, items[0], knapsack[0])\n",
    "#print(p)\n"
   ],
   "metadata": {
    "collapsed": false,
    "pycharm": {
     "name": "#%%\n"
    }
   }
  },
  {
   "cell_type": "markdown",
   "metadata": {
    "pycharm": {
     "name": "#%% md\n"
    }
   },
   "source": [
    "### Selection"
   ]
  },
  {
   "cell_type": "code",
   "execution_count": 54,
   "metadata": {
    "pycharm": {
     "name": "#%%\n"
    }
   },
   "outputs": [],
   "source": [
    "def select_wolves(population):\n",
    "    \"\"\"\n",
    "    Select the 3 best wolves\n",
    "\n",
    "    :param population: Population in which we search\n",
    "    :type population: list of Knapsack\n",
    "\n",
    "    :rtype: (Knapsack, Knapsack, Knapsack)\n",
    "    :return: The 3 best wolves\n",
    "    \"\"\"\n",
    "    return sorted(population, key=lambda x: x.fit(), reverse=True)[-3:]\n",
    "\n"
   ]
  },
  {
   "cell_type": "markdown",
   "metadata": {},
   "source": [
    "### generation of solution"
   ]
  },
  {
   "cell_type": "markdown",
   "metadata": {
    "pycharm": {
     "name": "#%% md\n"
    }
   },
   "source": [
    "##### $x^{p}_{j}(t) = \\omega_{\\alpha}*x^{\\alpha}_{j}(t) + \\omega_{\\beta}*x^{\\beta}_{j}(t) + \\omega_{\\delta}*x^{\\delta}_{j}(t) + \\epsilon(t)$"
   ]
  },
  {
   "cell_type": "code",
   "execution_count": 55,
   "metadata": {
    "pycharm": {
     "name": "#%%\n"
    }
   },
   "outputs": [],
   "source": [
    "# Generate an estimation of the position of the \"prey\" aka wanted solution\n",
    "# Problem, the solution isn't binary\n",
    "def generate_prey(alpha, beta, delta):\n",
    "    \"\"\"\n",
    "    Generate the solution we search (the prey)\n",
    "\n",
    "    :param alpha: The alpha wolf\n",
    "    :type alpha: Knapsack\n",
    "    :param beta: The beta wolf\n",
    "    :type beta: Knapsack\n",
    "    :param delta: The delta wolf\n",
    "    :type delta: Knapsack\n",
    "\n",
    "    :rtype: list of float\n",
    "    :return: The \"prey\" as a list of float\n",
    "    \"\"\"\n",
    "    total_fitness = alpha.fit() + beta.fit() + delta.fit()\n",
    "    if total_fitness != 0:\n",
    "        weightA = alpha.fit()/total_fitness\n",
    "        weightB = beta.fit()/total_fitness\n",
    "        weightD = delta.fit()/total_fitness\n",
    "    else:\n",
    "        weightA = 0\n",
    "        weightB = 0\n",
    "        weightD = 0\n",
    "\n",
    "    return [alpha.ks[x]*weightA+beta.ks[x]*weightB+delta.ks[x]*weightD\n",
    "            for x in range(len(alpha.ks))]"
   ]
  },
  {
   "cell_type": "markdown",
   "source": [
    "$y = x^{p}_{j}(t) - r1 * |x^{p}_{j}(t) - x^{k}_{j}(t)| $ </br>\n",
    "$z^{k}_{j} = \\begin{cases} 1, if \\; \\; r_{2} < \\phi(y) \\\\ 0, otherwise \\end{cases}$ </br>\n",
    "$\\phi(y)$ -> transform function -> 6 different see paper </br>\n",
    "$\\phi(y) = |tanh(y)|$ is the best ranked according to paper"
   ],
   "metadata": {
    "collapsed": false,
    "pycharm": {
     "name": "#%% md\n"
    }
   }
  },
  {
   "cell_type": "code",
   "execution_count": 56,
   "outputs": [],
   "source": [
    "# Generate a trial solution\n",
    "def generate_sol(prey, individual, transform_function=math.tanh):\n",
    "    \"\"\"\n",
    "    Generate a trial solution from the prey\n",
    "\n",
    "    :param prey: The researched solution\n",
    "    :type prey: list of float\n",
    "    :param individual: The current individual\n",
    "    :type individual: Knapsack\n",
    "    :param transform_function: Transform function real to integer\n",
    "    :type transform_function: typing.Callable\n",
    "\n",
    "    :rtype: Knapsack\n",
    "    :return: A trial solution\n",
    "    \"\"\"\n",
    "    r = random.uniform(-2, 2)\n",
    "    trial_list = [x - r * abs(x - y) for x, y in zip(prey, individual.ks)]\n",
    "    trial = [1 if random.uniform(0, 1) < transform_function(x) else 0 for x in trial_list]\n",
    "\n",
    "    ks = Knapsack(individual.constraints, individual.items)\n",
    "    ks.ks = trial\n",
    "\n",
    "    return ks"
   ],
   "metadata": {
    "collapsed": false,
    "pycharm": {
     "name": "#%%\n"
    }
   }
  },
  {
   "cell_type": "markdown",
   "metadata": {},
   "source": [
    "### repair\n",
    "Algo 2 papier"
   ]
  },
  {
   "cell_type": "code",
   "execution_count": 57,
   "metadata": {
    "pycharm": {
     "name": "#%%\n"
    }
   },
   "outputs": [],
   "source": [
    "def repair(individual):\n",
    "    \"\"\"\n",
    "    Repair the solution given\n",
    "\n",
    "    :param individual: A solution to repair\n",
    "    :type individual: Knapsack\n",
    "\n",
    "    :rtype: None\n",
    "    :return: Does not return anything, modify the individual given\n",
    "    \"\"\"\n",
    "    resource_consumption = []\n",
    "    for weight_i in range(len(individual.constraints)):\n",
    "        resource_consumption += [sum([Knapsack.items[i].weight[weight_i] for i, val in enumerate(individual.ks) if val == 1])]\n",
    "\n",
    "    for i in reversed(Knapsack.pseudo_utilities):\n",
    "        # Test if all the constraints are respected\n",
    "        if False in [res <= const for res, const in zip(resource_consumption, individual.constraints)]:\n",
    "            if individual.ks[i] == 1:\n",
    "                individual.ks[i] = 0\n",
    "                for j in range(len(Knapsack.items[i].weight)):\n",
    "                    resource_consumption[j] -= Knapsack.items[i].weight[j]\n",
    "\n",
    "    for i in Knapsack.pseudo_utilities:\n",
    "        if not (False in [res+weight <= const for res, const, weight in zip(resource_consumption, individual.constraints, Knapsack.items[i].weight)]):\n",
    "            if individual.ks[i] == 0:\n",
    "                individual.ks[i] = 1\n",
    "                for j in range(len(Knapsack.items[i].weight)):\n",
    "                    resource_consumption[j] += Knapsack.items[i].weight[j]\n",
    "\n",
    "#print(knap.ks)\n",
    "#repair(knap)\n",
    "#print(knap.ks)\n",
    "#print(knap.fit())"
   ]
  },
  {
   "cell_type": "markdown",
   "metadata": {
    "pycharm": {
     "name": "#%% md\n"
    }
   },
   "source": [
    "### Algorithm"
   ]
  },
  {
   "cell_type": "code",
   "execution_count": 58,
   "metadata": {
    "pycharm": {
     "name": "#%%\n"
    }
   },
   "outputs": [
    {
     "ename": "IndexError",
     "evalue": "list index out of range",
     "output_type": "error",
     "traceback": [
      "\u001B[0;31m---------------------------------------------------------------------------\u001B[0m",
      "\u001B[0;31mIndexError\u001B[0m                                Traceback (most recent call last)",
      "Input \u001B[0;32mIn [58]\u001B[0m, in \u001B[0;36m<module>\u001B[0;34m\u001B[0m\n\u001B[1;32m     51\u001B[0m                 individual \u001B[38;5;241m=\u001B[39m trial_solution\n\u001B[1;32m     54\u001B[0m     \u001B[38;5;28;01mreturn\u001B[39;00m alpha, beta, delta\n\u001B[0;32m---> 56\u001B[0m \u001B[38;5;28;01mfor\u001B[39;00m sol \u001B[38;5;129;01min\u001B[39;00m \u001B[43mgwo\u001B[49m\u001B[43m(\u001B[49m\u001B[38;5;241;43m100\u001B[39;49m\u001B[43m,\u001B[49m\u001B[43m \u001B[49m\u001B[43mitems\u001B[49m\u001B[43m,\u001B[49m\u001B[43m \u001B[49m\u001B[43mknapsack\u001B[49m\u001B[43m,\u001B[49m\u001B[43m \u001B[49m\u001B[38;5;241;43m50\u001B[39;49m\u001B[43m)\u001B[49m:\n\u001B[1;32m     57\u001B[0m     \u001B[38;5;28mprint\u001B[39m(sol\u001B[38;5;241m.\u001B[39mfit())\n\u001B[1;32m     58\u001B[0m \u001B[38;5;28mprint\u001B[39m(optimum)\n",
      "Input \u001B[0;32mIn [58]\u001B[0m, in \u001B[0;36mgwo\u001B[0;34m(max_iteration, list_items, list_constraints, population_size)\u001B[0m\n\u001B[1;32m      5\u001B[0m \u001B[38;5;28;01mdef\u001B[39;00m \u001B[38;5;21mgwo\u001B[39m(max_iteration, list_items, list_constraints, population_size):\n\u001B[1;32m      6\u001B[0m     \u001B[38;5;124;03m\"\"\"\u001B[39;00m\n\u001B[1;32m      7\u001B[0m \u001B[38;5;124;03m    Binary grey wolf optimization algorithm\u001B[39;00m\n\u001B[1;32m      8\u001B[0m \n\u001B[0;32m   (...)\u001B[0m\n\u001B[1;32m     19\u001B[0m \u001B[38;5;124;03m    :return: The best solution found\u001B[39;00m\n\u001B[1;32m     20\u001B[0m \u001B[38;5;124;03m    \"\"\"\u001B[39;00m\n\u001B[0;32m---> 21\u001B[0m     pop \u001B[38;5;241m=\u001B[39m \u001B[43mpop_init_pseudo\u001B[49m\u001B[43m(\u001B[49m\u001B[43mpopulation_size\u001B[49m\u001B[43m,\u001B[49m\u001B[43m \u001B[49m\u001B[43mlist_items\u001B[49m\u001B[43m,\u001B[49m\u001B[43m \u001B[49m\u001B[43mlist_constraints\u001B[49m\u001B[43m)\u001B[49m\n\u001B[1;32m     22\u001B[0m     alpha, beta, delta \u001B[38;5;241m=\u001B[39m select_wolves(pop)\n\u001B[1;32m     24\u001B[0m     \u001B[38;5;28;01mfor\u001B[39;00m iteration \u001B[38;5;129;01min\u001B[39;00m \u001B[38;5;28mrange\u001B[39m(max_iteration):\n\u001B[1;32m     25\u001B[0m         \u001B[38;5;66;03m# Estimate location of prey\u001B[39;00m\n",
      "Input \u001B[0;32mIn [51]\u001B[0m, in \u001B[0;36mpop_init_pseudo\u001B[0;34m(population_size, list_items, list_constraints)\u001B[0m\n\u001B[1;32m     21\u001B[0m \u001B[38;5;66;03m#TODO not list item but list of items in descending order of the pseudo utility\u001B[39;00m\n\u001B[1;32m     22\u001B[0m \u001B[38;5;28;01mfor\u001B[39;00m j \u001B[38;5;129;01min\u001B[39;00m Knapsack\u001B[38;5;241m.\u001B[39mpseudo_utilities:\n\u001B[1;32m     23\u001B[0m     \u001B[38;5;66;03m# In descending of the pseudo utility\u001B[39;00m\n\u001B[1;32m     24\u001B[0m \n\u001B[1;32m     25\u001B[0m     \u001B[38;5;66;03m# Test if all accumulated resources are inferior to the constraints of the ks\u001B[39;00m\n\u001B[1;32m     26\u001B[0m     \u001B[38;5;28;01mif\u001B[39;00m random\u001B[38;5;241m.\u001B[39mrandom() \u001B[38;5;241m<\u001B[39m \u001B[38;5;241m0.5\u001B[39m \\\n\u001B[1;32m     27\u001B[0m             \u001B[38;5;129;01mand\u001B[39;00m \u001B[38;5;129;01mnot\u001B[39;00m \u001B[38;5;28;01mFalse\u001B[39;00m \u001B[38;5;129;01min\u001B[39;00m [x \u001B[38;5;241m<\u001B[39m y \u001B[38;5;28;01mfor\u001B[39;00m x, y \u001B[38;5;129;01min\u001B[39;00m\n\u001B[1;32m     28\u001B[0m                               \u001B[38;5;28mzip\u001B[39m([a\u001B[38;5;241m+\u001B[39mb \u001B[38;5;28;01mfor\u001B[39;00m a,b \u001B[38;5;129;01min\u001B[39;00m\n\u001B[0;32m---> 29\u001B[0m                                    \u001B[38;5;28mzip\u001B[39m(accumulated_resources, \u001B[43mlist_items\u001B[49m\u001B[43m[\u001B[49m\u001B[43mj\u001B[49m\u001B[43m]\u001B[49m\u001B[38;5;241m.\u001B[39mweight)], ks\u001B[38;5;241m.\u001B[39mconstraints)]:\n\u001B[1;32m     30\u001B[0m         ks\u001B[38;5;241m.\u001B[39mks[j] \u001B[38;5;241m=\u001B[39m \u001B[38;5;241m1\u001B[39m\n\u001B[1;32m     31\u001B[0m         \u001B[38;5;66;03m# doesn't compute fitness as it is calculated via a method of ks\u001B[39;00m\n\u001B[1;32m     32\u001B[0m         \u001B[38;5;66;03m# fitness = fit(ks)\u001B[39;00m\n\u001B[1;32m     33\u001B[0m \n\u001B[1;32m     34\u001B[0m         \u001B[38;5;66;03m# Add all sizes of current item to the accumulated resources\u001B[39;00m\n",
      "\u001B[0;31mIndexError\u001B[0m: list index out of range"
     ]
    }
   ],
   "source": [
    "# Init\n",
    "# generate sol + repair + fit\n",
    "# inclusion\n",
    "\n",
    "def gwo(max_iteration, list_items, list_constraints, population_size):\n",
    "    \"\"\"\n",
    "    Binary grey wolf optimization algorithm\n",
    "\n",
    "    :param max_iteration: Max n° of iterations\n",
    "    :type max_iteration: int\n",
    "    :param list_items: List of items of the problem\n",
    "    :type list_items: list of Item\n",
    "    :param list_constraints: List of constraints of the problem\n",
    "    :type list_constraints: list of int\n",
    "    :param population_size: Size of the population of wolves\n",
    "    :type population_size: int\n",
    "\n",
    "    :rtype: Knapsack, Knapsack, Knapsack\n",
    "    :return: The best solution found\n",
    "    \"\"\"\n",
    "    pop = pop_init_pseudo(population_size, list_items, list_constraints)\n",
    "    alpha, beta, delta = select_wolves(pop)\n",
    "\n",
    "    for iteration in range(max_iteration):\n",
    "        # Estimate location of prey\n",
    "        prey = generate_prey(alpha, beta, delta)\n",
    "\n",
    "        for individual in pop:\n",
    "            # Can remove the for loop with list comprehension\n",
    "            #for dimension in individual.ks:\n",
    "            trial_solution = generate_sol(prey, individual)\n",
    "\n",
    "            repair(trial_solution)\n",
    "\n",
    "            # Might want to make it differently\n",
    "            # Or call fit(trial_solution) and have it make trial_solution.fit()\n",
    "            if trial_solution.fit() > individual.fit():\n",
    "                individual = trial_solution\n",
    "\n",
    "                if trial_solution.fit() > alpha.fit():\n",
    "                    alpha = trial_solution\n",
    "\n",
    "                if trial_solution.fit() > beta.fit():\n",
    "                    beta = trial_solution\n",
    "\n",
    "                if trial_solution.fit() > delta.fit():\n",
    "                    delta = trial_solution\n",
    "\n",
    "            # If the new solution doesn't improve, we update the individual anyway if it isn't a leader\n",
    "            elif individual != alpha and individual != beta and individual != delta:\n",
    "                individual = trial_solution\n",
    "\n",
    "\n",
    "    return alpha, beta, delta\n",
    "\n",
    "for sol in gwo(100, items[0], knapsack[0], 50):\n",
    "    print(sol.fit())\n",
    "print(optimum)"
   ]
  }
 ],
 "metadata": {
  "kernelspec": {
   "display_name": "Python 3 (ipykernel)",
   "language": "python",
   "name": "python3"
  },
  "language_info": {
   "codemirror_mode": {
    "name": "ipython",
    "version": 3
   },
   "file_extension": ".py",
   "mimetype": "text/x-python",
   "name": "python",
   "nbconvert_exporter": "python",
   "pygments_lexer": "ipython3",
   "version": "3.9.10"
  }
 },
 "nbformat": 4,
 "nbformat_minor": 1
}