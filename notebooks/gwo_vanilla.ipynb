{
 "cells": [
  {
   "cell_type": "markdown",
   "source": [
    "## Instances initialization"
   ],
   "metadata": {
    "collapsed": false,
    "pycharm": {
     "name": "#%% md\n"
    }
   }
  },
  {
   "cell_type": "code",
   "execution_count": 15,
   "outputs": [
    {
     "name": "stdout",
     "output_type": "stream",
     "text": [
      "0\n"
     ]
    }
   ],
   "source": [
    "from main import *\n",
    "import random\n",
    "\n",
    "items, knapsack, optimum = open_instance(\"../instances/chubeas/OR5x100/OR5x100.dat\")\n",
    "ks = Knapsack(knapsack[0], items[0])\n",
    "\n",
    "print(ks.fit())"
   ],
   "metadata": {
    "collapsed": false,
    "pycharm": {
     "name": "#%%\n"
    }
   }
  },
  {
   "cell_type": "markdown",
   "source": [
    "## GWO\n",
    "### Population initialization"
   ],
   "metadata": {
    "collapsed": false,
    "pycharm": {
     "name": "#%% md\n"
    }
   }
  },
  {
   "cell_type": "code",
   "execution_count": null,
   "outputs": [],
   "source": [
    "# Accumulated resources as list of dimensions ?\n",
    "def pop_init(population_size, list_items):\n",
    "    fitness = 0\n",
    "\n",
    "    for k in range(population_size):\n",
    "        accumulated_resources = [0]*len(list_items.weight)\n",
    "        for j in list_items:\n",
    "            # In descending of the pseudo utility -> sort before\n",
    "\n",
    "            # Nombre de ressources du ième object dans la jème dimension ?\n",
    "            accumulated_resources = [x+y for x,y in zip(accumulated_resources, j)]\n",
    "            # and r i + a ij <= b i , ∀ i = 1 , 2 , . . . , m\n",
    "            if random.random() < 0.5:\n",
    "                # Set x kj = 1 , f k ← f k + c j , and\n",
    "                # r i ← r i + a ij , ∀ i = 1 , 2 , . . . , m.\n",
    "                pass"
   ],
   "metadata": {
    "collapsed": false,
    "pycharm": {
     "name": "#%%\n"
    }
   }
  },
  {
   "cell_type": "markdown",
   "source": [
    "### Selection"
   ],
   "metadata": {
    "collapsed": false,
    "pycharm": {
     "name": "#%% md\n"
    }
   }
  },
  {
   "cell_type": "code",
   "execution_count": null,
   "outputs": [],
   "source": [
    "def select_wolves(population):\n",
    "    return sorted(population, key=lambda x: x.fit(), reverse=True)[-3:]\n",
    "\n"
   ],
   "metadata": {
    "collapsed": false,
    "pycharm": {
     "name": "#%%\n"
    }
   }
  },
  {
   "cell_type": "markdown",
   "source": [
    "### generation of solution"
   ],
   "metadata": {
    "collapsed": false
   }
  },
  {
   "cell_type": "markdown",
   "source": [
    "##### $x^{p}_{j}(t) = \\omega_{\\alpha}*x^{\\alpha}_{j}(t) + \\omega_{\\beta}*x^{\\beta}_{j}(t) + \\omega_{\\delta}*x^{\\delta}_{j}(t) + \\epsilon(t)$"
   ],
   "metadata": {
    "collapsed": false,
    "pycharm": {
     "name": "#%% md\n"
    }
   }
  },
  {
   "cell_type": "code",
   "execution_count": null,
   "outputs": [],
   "source": [
    "# Generate an estimation of the position of the \"prey\" aka wanted solution\n",
    "# Problem, the solution isn't binary\n",
    "def generate_prey(alpha, beta, delta):\n",
    "    total_fitness = alpha.fit() + beta.fit() + delta.fit()\n",
    "    weightA = alpha.fit()/total_fitness\n",
    "    weightB = beta.fit()/total_fitness\n",
    "    weightD = delta.fit()/total_fitness\n",
    "\n",
    "    return [alpha.ks[x]*weightA+beta.ks[x]*weightB+delta.ks[x]*weightD\n",
    "            for x in range(len(alpha.ks))]\n",
    "\n",
    "# Generate a trial solution\n",
    "def generate_sol():\n",
    "    pass\n"
   ],
   "metadata": {
    "collapsed": false,
    "pycharm": {
     "name": "#%%\n"
    }
   }
  },
  {
   "cell_type": "markdown",
   "source": [
    "### repair"
   ],
   "metadata": {
    "collapsed": false
   }
  },
  {
   "cell_type": "code",
   "execution_count": null,
   "outputs": [],
   "source": [
    "def repair(individual):\n",
    "    pass"
   ],
   "metadata": {
    "collapsed": false,
    "pycharm": {
     "name": "#%%\n"
    }
   }
  },
  {
   "cell_type": "markdown",
   "source": [
    "### Algorithm"
   ],
   "metadata": {
    "collapsed": false,
    "pycharm": {
     "name": "#%% md\n"
    }
   }
  },
  {
   "cell_type": "code",
   "execution_count": null,
   "outputs": [],
   "source": [
    "# Init\n",
    "# generate sol + repair + fit\n",
    "# inclusion\n",
    "\n",
    "def gwo(max_iteration, list_items):\n",
    "    pop = pop_init(max_iteration, list_items)\n",
    "    alpha, beta, delta = select_wolves(pop)\n",
    "\n",
    "    for iteration in range(max_iteration):\n",
    "        # Estimate location of prey\n",
    "        prey = generate_prey(alpha, beta, delta)\n",
    "\n",
    "        for individual in pop():\n",
    "            # Okay need to do it differently when I will have to make\n",
    "            # Something general\n",
    "            trial_solution = None\n",
    "            for dimension in individual.ks:\n",
    "                trial_solution = generate_sol()\n",
    "\n",
    "            trial_solution = repair(trial_solution)\n",
    "\n",
    "            # Might want to make it differently\n",
    "            # Or call fit(trial_solution) and have it make trial_solution.fit()\n",
    "            if trial_solution.fit() > individual.fit():\n",
    "                # Trial solution or trial solution.ks for individual.ks ?\n",
    "                individual = trial_solution\n",
    "\n",
    "                if trial_solution.fit() > alpha.fit():\n",
    "                    alpha = trial_solution\n",
    "\n",
    "                if trial_solution.fit() > beta.fit():\n",
    "                    beta = trial_solution\n",
    "\n",
    "                if trial_solution.fit() > delta.fit():\n",
    "                    delta = trial_solution\n",
    "            else:\n",
    "                individual = trial_solution\n",
    "\n",
    "\n",
    "\n"
   ],
   "metadata": {
    "collapsed": false,
    "pycharm": {
     "name": "#%%\n"
    }
   }
  }
 ],
 "metadata": {
  "kernelspec": {
   "display_name": "Python 3",
   "language": "python",
   "name": "python3"
  },
  "language_info": {
   "codemirror_mode": {
    "name": "ipython",
    "version": 2
   },
   "file_extension": ".py",
   "mimetype": "text/x-python",
   "name": "python",
   "nbconvert_exporter": "python",
   "pygments_lexer": "ipython2",
   "version": "2.7.6"
  }
 },
 "nbformat": 4,
 "nbformat_minor": 0
}