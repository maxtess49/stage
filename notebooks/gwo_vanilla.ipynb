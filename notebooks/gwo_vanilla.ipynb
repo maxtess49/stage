{
 "cells": [
  {
   "cell_type": "markdown",
   "metadata": {
    "pycharm": {
     "name": "#%% md\n"
    }
   },
   "source": [
    "## Instances initialization"
   ]
  },
  {
   "cell_type": "code",
   "execution_count": 4,
   "metadata": {
    "pycharm": {
     "name": "#%%\n"
    }
   },
   "outputs": [],
   "source": [
    "from main import *\n",
    "import random\n",
    "import math\n",
    "\n",
    "items, knapsack, optimum = open_instance(\"../instances/chubeas/OR5x100/OR5x100.dat\")\n",
    "ks = Knapsack(knapsack[0], items[0])\n",
    "#print(ks.fit())\n",
    "#print(Knapsack.pseudo_utilities)"
   ]
  },
  {
   "cell_type": "markdown",
   "metadata": {
    "pycharm": {
     "name": "#%% md\n"
    }
   },
   "source": [
    "## GWO\n",
    "### Population initialization\n",
    "Using pseudo-utility"
   ]
  },
  {
   "cell_type": "code",
   "execution_count": 3,
   "metadata": {
    "pycharm": {
     "name": "#%%\n"
    }
   },
   "outputs": [
    {
     "name": "stdout",
     "output_type": "stream",
     "text": [
      "[<main.Knapsack object at 0x7efdbecf7f70>, <main.Knapsack object at 0x7efdbed17070>, <main.Knapsack object at 0x7efe0432f340>, <main.Knapsack object at 0x7efe0432f7f0>, <main.Knapsack object at 0x7efe0432fa00>, <main.Knapsack object at 0x7efe0432f4f0>, <main.Knapsack object at 0x7efe0432f0d0>, <main.Knapsack object at 0x7efe04108af0>, <main.Knapsack object at 0x7efe04459f10>, <main.Knapsack object at 0x7efe0432f580>]\n"
     ]
    }
   ],
   "source": [
    "# Accumulated resources as list of dimensions ?\n",
    "def pop_init_pseudo(population_size, list_items, list_constraints):\n",
    "    \"\"\"\n",
    "    Initialize a population of \"elite\" solutions\n",
    "\n",
    "    :param population_size: Size of the population\n",
    "    :type population_size: int\n",
    "    :param list_items: List of items for the MKP\n",
    "    :type list_items: list of Item\n",
    "    :param list_constraints: List of constraints for this knapsack\n",
    "    :type list_constraints: list of int\n",
    "\n",
    "    :rtype: list of Knapsack\n",
    "    :return: The population\n",
    "    \"\"\"\n",
    "    population = []\n",
    "\n",
    "    for k in range(population_size):\n",
    "        accumulated_resources = [0]*len(list_constraints)\n",
    "        ks = Knapsack(list_constraints, list_items)\n",
    "        #TODO not list item but list of items in descending order of the pseudo utility\n",
    "        for j in Knapsack.pseudo_utilities:\n",
    "            # In descending of the pseudo utility\n",
    "\n",
    "            # Test if all accumulated resources are inferior to the constraints of the ks\n",
    "            if random.random() < 0.5 \\\n",
    "                    and not False in [x < y for x, y in\n",
    "                                      zip([a+b for a,b in\n",
    "                                           zip(accumulated_resources, list_items[j].weight)], ks.constraints)]:\n",
    "                ks.ks[j] = 1\n",
    "                # doesn't compute fitness as it is calculated via a method of ks\n",
    "                # fitness = fit(ks)\n",
    "\n",
    "                # Add all sizes of current item to the accumulated resources\n",
    "                accumulated_resources = [x+y for x,y in zip(accumulated_resources, list_items[j].weight)]\n",
    "        population += [ks]\n",
    "\n",
    "    return population\n",
    "\n",
    "#p = pop_init_pseudo(10, items[0], knapsack[0])\n",
    "#print(p)"
   ]
  },
  {
   "cell_type": "markdown",
   "source": [
    "Initializing at 0"
   ],
   "metadata": {
    "collapsed": false,
    "pycharm": {
     "name": "#%% md\n"
    }
   }
  },
  {
   "cell_type": "code",
   "execution_count": 9,
   "outputs": [
    {
     "name": "stdout",
     "output_type": "stream",
     "text": [
      "[<main.Knapsack object at 0x7fea302f3250>, <main.Knapsack object at 0x7fea30876a60>, <main.Knapsack object at 0x7fea30876970>, <main.Knapsack object at 0x7fea304b30d0>, <main.Knapsack object at 0x7fea304b3c10>, <main.Knapsack object at 0x7fea304b3100>, <main.Knapsack object at 0x7fea304b37c0>, <main.Knapsack object at 0x7fea304b3fd0>, <main.Knapsack object at 0x7fea304b3dc0>, <main.Knapsack object at 0x7fea304b3d30>]\n"
     ]
    }
   ],
   "source": [
    "def pop_init_zero(population_size, list_items, list_constraints):\n",
    "    \"\"\"\n",
    "    Initialize a population of \"elite\" solutions\n",
    "\n",
    "    :param population_size: Size of the population\n",
    "    :type population_size: int\n",
    "    :param list_items: List of items for the MKP\n",
    "    :type list_items: list of Item\n",
    "    :param list_constraints: List of constraints for this knapsack\n",
    "    :type list_constraints: list of int\n",
    "\n",
    "    :rtype: list of Knapsack\n",
    "    :return: The population\n",
    "    \"\"\"\n",
    "    population = []\n",
    "\n",
    "    for k in range(population_size):\n",
    "        ks = Knapsack(list_constraints, list_items)\n",
    "        ks.ks = [0]*len(list_items)\n",
    "        population += [ks]\n",
    "    return population\n",
    "\n",
    "#p = pop_init_zero(10, items[0], knapsack[0])\n",
    "#print(p)"
   ],
   "metadata": {
    "collapsed": false,
    "pycharm": {
     "name": "#%%\n"
    }
   }
  },
  {
   "cell_type": "markdown",
   "source": [
    "Random initialization"
   ],
   "metadata": {
    "collapsed": false
   }
  },
  {
   "cell_type": "code",
   "execution_count": 8,
   "outputs": [
    {
     "name": "stdout",
     "output_type": "stream",
     "text": [
      "[<main.Knapsack object at 0x7fea31798ac0>, <main.Knapsack object at 0x7fea30f54c10>, <main.Knapsack object at 0x7fea30f54d90>, <main.Knapsack object at 0x7fea30f54e80>, <main.Knapsack object at 0x7fea30f54640>, <main.Knapsack object at 0x7fea30525df0>, <main.Knapsack object at 0x7fea30525460>, <main.Knapsack object at 0x7fea30525640>, <main.Knapsack object at 0x7fea30525c40>, <main.Knapsack object at 0x7fea30525910>]\n"
     ]
    }
   ],
   "source": [
    "def pop_init_random(population_size, list_items, list_constraints):\n",
    "    \"\"\"\n",
    "    Initialize a population of \"elite\" solutions\n",
    "\n",
    "    :param population_size: Size of the population\n",
    "    :type population_size: int\n",
    "    :param list_items: List of items for the MKP\n",
    "    :type list_items: list of Item\n",
    "    :param list_constraints: List of constraints for this knapsack\n",
    "    :type list_constraints: list of int\n",
    "\n",
    "    :rtype: list of Knapsack\n",
    "    :return: The population\n",
    "    \"\"\"\n",
    "    population = []\n",
    "\n",
    "    for k in range(population_size):\n",
    "        ks = Knapsack(list_constraints, list_items)\n",
    "        for i in range(len(list_items)):\n",
    "            if random.random() < 0.5:\n",
    "                ks.ks[i] = 1\n",
    "        population += [ks]\n",
    "    return population\n",
    "\n",
    "#p = pop_init_random(10, items[0], knapsack[0])\n",
    "#print(p)\n"
   ],
   "metadata": {
    "collapsed": false,
    "pycharm": {
     "name": "#%%\n"
    }
   }
  },
  {
   "cell_type": "markdown",
   "metadata": {
    "pycharm": {
     "name": "#%% md\n"
    }
   },
   "source": [
    "### Selection"
   ]
  },
  {
   "cell_type": "code",
   "execution_count": null,
   "metadata": {
    "pycharm": {
     "name": "#%%\n"
    }
   },
   "outputs": [],
   "source": [
    "def select_wolves(population):\n",
    "    \"\"\"\n",
    "    Select the 3 best wolves\n",
    "\n",
    "    :param population: Population in which we search\n",
    "    :type population: list of Knapsack\n",
    "\n",
    "    :rtype: (Knapsack, Knapsack, Knapsack)\n",
    "    :return: The 3 best wolves\n",
    "    \"\"\"\n",
    "    return sorted(population, key=lambda x: x.fit(), reverse=True)[-3:]\n",
    "\n"
   ]
  },
  {
   "cell_type": "markdown",
   "metadata": {},
   "source": [
    "### generation of solution"
   ]
  },
  {
   "cell_type": "markdown",
   "metadata": {
    "pycharm": {
     "name": "#%% md\n"
    }
   },
   "source": [
    "##### $x^{p}_{j}(t) = \\omega_{\\alpha}*x^{\\alpha}_{j}(t) + \\omega_{\\beta}*x^{\\beta}_{j}(t) + \\omega_{\\delta}*x^{\\delta}_{j}(t) + \\epsilon(t)$"
   ]
  },
  {
   "cell_type": "code",
   "execution_count": null,
   "metadata": {
    "pycharm": {
     "name": "#%%\n"
    }
   },
   "outputs": [],
   "source": [
    "# Generate an estimation of the position of the \"prey\" aka wanted solution\n",
    "# Problem, the solution isn't binary\n",
    "def generate_prey(alpha, beta, delta):\n",
    "    \"\"\"\n",
    "    Generate the solution we search (the prey)\n",
    "\n",
    "    :param alpha: The alpha wolf\n",
    "    :type alpha: Knapsack\n",
    "    :param beta: The beta wolf\n",
    "    :type beta: Knapsack\n",
    "    :param delta: The delta wolf\n",
    "    :type delta: Knapsack\n",
    "\n",
    "    :rtype: list of float\n",
    "    :return: The \"prey\" as a list of float\n",
    "    \"\"\"\n",
    "    total_fitness = alpha.fit() + beta.fit() + delta.fit()\n",
    "    weightA = alpha.fit()/total_fitness\n",
    "    weightB = beta.fit()/total_fitness\n",
    "    weightD = delta.fit()/total_fitness\n",
    "\n",
    "    return [alpha.ks[x]*weightA+beta.ks[x]*weightB+delta.ks[x]*weightD\n",
    "            for x in range(len(alpha.ks))]"
   ]
  },
  {
   "cell_type": "markdown",
   "source": [
    "$y = x^{p}_{j}(t) - r1 * |x^{p}_{j}(t) - x^{k}_{j}(t)| $ </br>\n",
    "$z^{k}_{j} = \\begin{cases} 1, if \\; \\; r_{2} < \\phi(y) \\\\ 0, otherwise \\end{cases}$ </br>\n",
    "$\\phi(y)$ -> transform function -> 6 different see paper </br>\n",
    "$\\phi(y) = |tanh(y)|$ is the best ranked according to paper"
   ],
   "metadata": {
    "collapsed": false,
    "pycharm": {
     "name": "#%% md\n"
    }
   }
  },
  {
   "cell_type": "code",
   "execution_count": null,
   "outputs": [],
   "source": [
    "# Generate a trial solution\n",
    "def generate_sol(prey, individual, transform_function=math.tanh):\n",
    "    \"\"\"\n",
    "    Generate a trial solution from the prey\n",
    "\n",
    "    :param prey: The researched solution\n",
    "    :type prey: list of float\n",
    "    :param individual: The current individual\n",
    "    :type individual: Knapsack\n",
    "    :param transform_function: Transform function real to integer\n",
    "    :type transform_function: typing.Callable\n",
    "\n",
    "    :rtype: Knapsack\n",
    "    :return: A trial solution\n",
    "    \"\"\"\n",
    "    r = random.uniform(-2, 2)\n",
    "    trial_list = [x - r * abs(x - y) for x, y in zip(prey, individual.ks)]\n",
    "    trial = [1 if random.uniform(0, 1) < transform_function(x) else 0 for x in trial_list]\n",
    "\n",
    "    ks = Knapsack(individual.constraints, individual.items)\n",
    "    ks.ks = trial\n",
    "\n",
    "    return ks"
   ],
   "metadata": {
    "collapsed": false,
    "pycharm": {
     "name": "#%%\n"
    }
   }
  },
  {
   "cell_type": "markdown",
   "metadata": {},
   "source": [
    "### repair\n",
    "Algo 2 papier"
   ]
  },
  {
   "cell_type": "code",
   "execution_count": 12,
   "metadata": {
    "pycharm": {
     "name": "#%%\n"
    }
   },
   "outputs": [
    {
     "name": "stdout",
     "output_type": "stream",
     "text": [
      "5\n",
      "[1174, 2013, 1289, 550, 932]\n"
     ]
    }
   ],
   "source": [
    "def repair(individual):\n",
    "    \"\"\"\n",
    "    Repair the solution given\n",
    "\n",
    "    :param individual: A solution to repair\n",
    "    :type individual: Knapsack\n",
    "\n",
    "    :rtype: Knapsack\n",
    "    :return: A repaired solution\n",
    "    \"\"\"\n",
    "    resource_consumption = []\n",
    "    for weight_i in range(len(individual.constraints)):\n",
    "        resource_consumption += [sum([Knapsack.items[i].weight[weight_i] for i, val in enumerate(individual.ks) if val == 1])]\n",
    "\n",
    "    for i in reversed(Knapsack.pseudo_utilities):\n",
    "        pass\n",
    "    for i in Knapsack.pseudo_utilities:\n",
    "        pass"
   ]
  },
  {
   "cell_type": "markdown",
   "metadata": {
    "pycharm": {
     "name": "#%% md\n"
    }
   },
   "source": [
    "### Algorithm"
   ]
  },
  {
   "cell_type": "code",
   "execution_count": null,
   "metadata": {
    "pycharm": {
     "name": "#%%\n"
    }
   },
   "outputs": [],
   "source": [
    "# Init\n",
    "# generate sol + repair + fit\n",
    "# inclusion\n",
    "\n",
    "def gwo(max_iteration, list_items, list_constraints):\n",
    "    pop = pop_init_pseudo(max_iteration, list_items, list_constraints)\n",
    "    alpha, beta, delta = select_wolves(pop)\n",
    "\n",
    "    for iteration in range(max_iteration):\n",
    "        # Estimate location of prey\n",
    "        prey = generate_prey(alpha, beta, delta)\n",
    "\n",
    "        for individual in pop():\n",
    "            # Can remove the for loop with list comprehension\n",
    "            #for dimension in individual.ks:\n",
    "            trial_solution = generate_sol(prey, individual)\n",
    "\n",
    "            trial_solution = repair(trial_solution)\n",
    "\n",
    "            # Might want to make it differently\n",
    "            # Or call fit(trial_solution) and have it make trial_solution.fit()\n",
    "            if trial_solution.fit() > individual.fit():\n",
    "                individual = trial_solution\n",
    "\n",
    "                if trial_solution.fit() > alpha.fit():\n",
    "                    alpha = trial_solution\n",
    "\n",
    "                if trial_solution.fit() > beta.fit():\n",
    "                    beta = trial_solution\n",
    "\n",
    "                if trial_solution.fit() > delta.fit():\n",
    "                    delta = trial_solution\n",
    "\n",
    "            # If the new solution doesn't improve, we update the individual anyway if it isn't a leader\n",
    "            elif individual != alpha and individual != beta and individual != delta:\n",
    "                individual = trial_solution\n",
    "\n",
    "\n",
    "\n"
   ]
  }
 ],
 "metadata": {
  "kernelspec": {
   "display_name": "Python 3 (ipykernel)",
   "language": "python",
   "name": "python3"
  },
  "language_info": {
   "codemirror_mode": {
    "name": "ipython",
    "version": 3
   },
   "file_extension": ".py",
   "mimetype": "text/x-python",
   "name": "python",
   "nbconvert_exporter": "python",
   "pygments_lexer": "ipython3",
   "version": "3.9.10"
  }
 },
 "nbformat": 4,
 "nbformat_minor": 1
}