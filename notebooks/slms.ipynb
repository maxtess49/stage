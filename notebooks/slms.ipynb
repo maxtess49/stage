{
 "cells": [
  {
   "cell_type": "markdown",
   "metadata": {
    "collapsed": true,
    "pycharm": {
     "name": "#%% md\n"
    }
   },
   "source": [
    "## Instances initialization"
   ]
  },
  {
   "cell_type": "code",
   "execution_count": 1,
   "outputs": [],
   "source": [
    "import math\n",
    "from models import mkp\n",
    "import random\n",
    "\n",
    "#items, knapsack, optimum = mkp.open_instance(\"../instances/chubeas/OR5x100/OR5x100.dat\")\n",
    "# knap = mkp.Knapsack(knapsack[0], items[0])\n",
    "# print(mkp.Knapsack.pseudo_utilities)\n",
    "# print(items[0][0].profit)\n",
    "# print(items[0][0].weight)\n",
    "# print(knap.pseudo_utility_2())"
   ],
   "metadata": {
    "collapsed": false,
    "pycharm": {
     "name": "#%%\n"
    }
   }
  },
  {
   "cell_type": "markdown",
   "source": [
    "## SLMS\n",
    "### Population initialization\n",
    "Not sure if it's right"
   ],
   "metadata": {
    "collapsed": false,
    "pycharm": {
     "name": "#%% md\n"
    }
   }
  },
  {
   "cell_type": "code",
   "execution_count": 2,
   "outputs": [],
   "source": [
    "def pop_init_random(population_size, list_items, list_constraints):\n",
    "    \"\"\"\n",
    "    Initialize a population of \"elite\" solutions randomly\n",
    "\n",
    "    :param population_size: Size of the population\n",
    "    :type population_size: int\n",
    "    :param list_items: List of items for the MKP\n",
    "    :type list_items: list of Item\n",
    "    :param list_constraints: List of constraints for this knapsack\n",
    "    :type list_constraints: list of int\n",
    "\n",
    "    :rtype: list of Knapsack\n",
    "    :return: The population\n",
    "    \"\"\"\n",
    "    population = []\n",
    "\n",
    "    for k in range(population_size):\n",
    "        ks = mkp.Knapsack(list_constraints, list_items)\n",
    "        for i in range(len(list_items)):\n",
    "            ks.ks[i] = random.random()\n",
    "        population += [ks]\n",
    "    return population\n",
    "\n",
    "# p = pop_init_random(10, items[0], knapsack[0])\n",
    "# print(p)"
   ],
   "metadata": {
    "collapsed": false,
    "pycharm": {
     "name": "#%%\n"
    }
   }
  },
  {
   "cell_type": "markdown",
   "source": [
    "## Generation of initial solution (selection ?)"
   ],
   "metadata": {
    "collapsed": false,
    "pycharm": {
     "name": "#%% md\n"
    }
   }
  },
  {
   "cell_type": "code",
   "execution_count": 3,
   "outputs": [],
   "source": [
    "# Generate a trial solution\n",
    "def generate_sol(individual, transform_function=math.tanh):\n",
    "    \"\"\"\n",
    "    Generate a trial solution from the moths\n",
    "\n",
    "    :param individual: The current individual\n",
    "    :type individual: Knapsack\n",
    "    :param transform_function: Transform function real to integer\n",
    "    :type transform_function: typing.Callable\n",
    "\n",
    "    :rtype: Knapsack\n",
    "    :return: A trial solution\n",
    "    \"\"\"\n",
    "\n",
    "    individual.ks = [1 if random.uniform(0, 1) < transform_function(x) else 0 for x in individual.ks]\n",
    "    return individual\n",
    "\n",
    "# for i in p:\n",
    "#     generate_sol(i)\n",
    "#     print(i.ks)"
   ],
   "metadata": {
    "collapsed": false,
    "pycharm": {
     "name": "#%%\n"
    }
   }
  },
  {
   "cell_type": "markdown",
   "source": [
    "### Repair"
   ],
   "metadata": {
    "collapsed": false
   }
  },
  {
   "cell_type": "code",
   "execution_count": 4,
   "outputs": [],
   "source": [
    "def repair(individual):\n",
    "    \"\"\"\n",
    "    Repair the solution given\n",
    "\n",
    "    :param individual: A solution to repair\n",
    "    :type individual: Knapsack\n",
    "\n",
    "    :rtype: None\n",
    "    :return: Does not return anything, modify the individual given\n",
    "    \"\"\"\n",
    "    resource_consumption = []\n",
    "    for weight_i in range(len(individual.constraints)):\n",
    "        resource_consumption += [sum([mkp.Knapsack.items[i].weight[weight_i] for i, val in\n",
    "                                      enumerate(individual.ks) if val == 1])]\n",
    "\n",
    "    for i in reversed(mkp.Knapsack.pseudo_utilities):\n",
    "        # Test if all the constraints are respected\n",
    "        if False in [res <= const for res, const in zip(resource_consumption, individual.constraints)]:\n",
    "            if individual.ks[i] == 1:\n",
    "                individual.ks[i] = 0\n",
    "                resource_consumption = [res - weight for res, weight in\n",
    "                                        zip(resource_consumption, mkp.Knapsack.items[i].weight)]\n",
    "                individual.fitness -= mkp.Knapsack.items[i].profit\n",
    "        else:\n",
    "            break\n",
    "\n",
    "    for i in mkp.Knapsack.pseudo_utilities:\n",
    "        if individual.ks[i] == 0:\n",
    "            if not (False in [res + weight <= const for res, const, weight in\n",
    "                              zip(resource_consumption, individual.constraints, mkp.Knapsack.items[i].weight)]):\n",
    "\n",
    "                individual.ks[i] = 1\n",
    "                resource_consumption = [res + weight for res, weight in\n",
    "                                        zip(resource_consumption, mkp.Knapsack.items[i].weight)]\n",
    "                individual.fitness += mkp.Knapsack.items[i].profit\n"
   ],
   "metadata": {
    "collapsed": false,
    "pycharm": {
     "name": "#%%\n"
    }
   }
  },
  {
   "cell_type": "markdown",
   "source": [
    "### Generation of solution\n",
    "Lévy flight\n",
    "x t i + 1 = x ti + α L(s)\n",
    "\n",
    "α = S max / t 2\n",
    "\n",
    "\n",
    "L(s) = ( β − 1) Γ ( β − 1) sin(π ( β− 1)/2) / π s β\n",
    "\n",
    "L(s) represents the step drawn from Lévy flights ??"
   ],
   "metadata": {
    "collapsed": false,
    "pycharm": {
     "name": "#%% md\n"
    }
   }
  },
  {
   "cell_type": "code",
   "execution_count": 5,
   "outputs": [],
   "source": [
    "def calc_step(length, beta):\n",
    "    \"\"\"\n",
    "    Calculate a step s for Lévy flight as seen in\n",
    "    Nature-Inspired Metaheuristic Algorithms Second Edition - Xin-She Yang\n",
    "\n",
    "    :param length: Number of items\n",
    "    :type length: int\n",
    "    :param beta: The index ?\n",
    "    :type beta: float\n",
    "\n",
    "    :rtype: list of int\n",
    "    :return: The step s for each item\n",
    "    \"\"\"\n",
    "    sigma = (math.gamma(1+beta)*math.sin((math.pi*(beta-1)/2))/\n",
    "             math.gamma(beta/2)*(beta-1)*2**((beta-2)/2))**(1/(beta-1))\n",
    "\n",
    "    u = [0]*length\n",
    "    v = [0]*length\n",
    "    for i in range(length):\n",
    "        u[i] = random.random()*sigma\n",
    "        v[i] = random.random()\n",
    "    step = [u/abs(v)*(1/(beta-1)) for u, v in zip(u, v)]\n",
    "\n",
    "    return step\n",
    "\n",
    "def levyFlight(individuals, scaleFactor, beta=1.5):\n",
    "    \"\"\"\n",
    "    Calculate the Lévy flight for each moth\n",
    "\n",
    "    :param individuals: A population\n",
    "    :type individuals: list of mkp.Knapsack\n",
    "    :param scaleFactor: The scale factor\n",
    "    :type scaleFactor: float\n",
    "    :param beta: The index\n",
    "    :type beta: float\n",
    "\n",
    "    :rtype: list of mkp.Knapsack\n",
    "    :return: A list of Knapsack mutated\n",
    "    \"\"\"\n",
    "\n",
    "    s = calc_step(len(mkp.Knapsack.items), beta)\n",
    "    for i in range(len(individuals)):\n",
    "        L = ((beta-1)*math.gamma(beta-1)*math.sin(math.pi*(beta-1)/2))\\\n",
    "            /(math.pi*s[i]**beta)\n",
    "        individuals[i].ks = [item + scaleFactor * L for item in individuals[i].ks]\n",
    "\n",
    "    return individuals"
   ],
   "metadata": {
    "collapsed": false,
    "pycharm": {
     "name": "#%%"
    }
   }
  },
  {
   "cell_type": "markdown",
   "source": [
    "### Generation of solution\n",
    "self learning operator </br>\n",
    "The max step S max = 1 . 0 </br>\n",
    "acceleration factor φ = 0 . 618 </br>\n",
    "the index β = 1 . 5. </br>\n",
    "λ = α = S max / t 2 ??\n",
    "where scale factor λ is set to a random number drawn by the standard uniform distribution  ?"
   ],
   "metadata": {
    "collapsed": false
   }
  },
  {
   "cell_type": "code",
   "execution_count": 6,
   "outputs": [],
   "source": [
    "def sl(individuals, learningTime, scaleFactor, phi, best):\n",
    "    for i in range(len(individuals)):\n",
    "        for j in range(learningTime):\n",
    "            new = mkp.Knapsack(individuals[i].constraints, individuals[i].items)\n",
    "            if i == 0:\n",
    "                random_better = random.choice(individuals[:i+1])\n",
    "            else:\n",
    "                random_better = random.choice(individuals[:i])\n",
    "            if random.random() < 0.5:\n",
    "                new.ks = [scaleFactor * (random_better.ks[item] + phi * (best.ks[item] - individuals[i].ks[item]))\n",
    "                          for item in range(len(mkp.Knapsack.items))]\n",
    "            else:\n",
    "                new.ks = [scaleFactor * (random_better.ks[item] + (1/phi) * (best.ks[item] - individuals[i].ks[item]))\n",
    "                          for item in range(len(mkp.Knapsack.items))]\n",
    "            new.fit()\n",
    "            if new.fitness > individuals[i].fitness:\n",
    "                individuals[i] = new"
   ],
   "metadata": {
    "collapsed": false,
    "pycharm": {
     "name": "#%%\n"
    }
   }
  },
  {
   "cell_type": "markdown",
   "source": [
    "### ALGORITHM"
   ],
   "metadata": {
    "collapsed": false
   }
  },
  {
   "cell_type": "code",
   "execution_count": 7,
   "outputs": [
    {
     "name": "stdout",
     "output_type": "stream",
     "text": [
      "24003\n",
      "0\n"
     ]
    }
   ],
   "source": [
    "def slms(population, maxFit=100000, maxStep=1.0, phi=0.618):\n",
    "    for individual in population:\n",
    "        generate_sol(individual)\n",
    "        repair(individual)\n",
    "        individual.fit()\n",
    "    population.sort(key=lambda x: x.fitness, reverse=True)\n",
    "\n",
    "    i = 0\n",
    "    generation = 1\n",
    "    while i < maxFit:\n",
    "        # Have to change in case population length is odd\n",
    "        bestInd = population[0]\n",
    "        pop_1 = population[:int(len(population)/2)]\n",
    "        pop_2 = population[int(len(population)/2):]\n",
    "\n",
    "        levyFlight(pop_1, (maxStep/generation**2))\n",
    "        sl(pop_2, 1, random.random(), phi, bestInd)\n",
    "\n",
    "        for individual in population:\n",
    "            generate_sol(individual)\n",
    "            repair(individual)\n",
    "            individual.fit()\n",
    "        population.sort(key=lambda x: x.fitness, reverse=True)\n",
    "\n",
    "        i += len(population)\n",
    "        generation += 1\n",
    "    return population[0]\n",
    "\n",
    "items, knapsack, optimum = mkp.open_instance(\"../instances/chubeas/OR5x100/OR5x100.dat\")\n",
    "random.seed(10)\n",
    "sol = slms(pop_init_random(50, items[0], knapsack[0]))\n",
    "print(sol.fitness)\n",
    "print(optimum)"
   ],
   "metadata": {
    "collapsed": false,
    "pycharm": {
     "name": "#%%\n"
    }
   }
  }
 ],
 "metadata": {
  "kernelspec": {
   "display_name": "Python 3",
   "language": "python",
   "name": "python3"
  },
  "language_info": {
   "codemirror_mode": {
    "name": "ipython",
    "version": 2
   },
   "file_extension": ".py",
   "mimetype": "text/x-python",
   "name": "python",
   "nbconvert_exporter": "python",
   "pygments_lexer": "ipython2",
   "version": "2.7.6"
  }
 },
 "nbformat": 4,
 "nbformat_minor": 0
}