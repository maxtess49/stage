{
 "cells": [
  {
   "cell_type": "markdown",
   "metadata": {
    "collapsed": true,
    "pycharm": {
     "name": "#%% md\n"
    }
   },
   "source": [
    "# PSO"
   ]
  },
  {
   "cell_type": "markdown",
   "source": [
    "Imports"
   ],
   "metadata": {
    "collapsed": false,
    "pycharm": {
     "name": "#%% md\n"
    }
   }
  },
  {
   "cell_type": "code",
   "execution_count": 1,
   "outputs": [],
   "source": [
    "from deap import base\n",
    "from deap import creator\n",
    "from deap import tools\n",
    "from deap import algorithms\n",
    "from models import mkp"
   ],
   "metadata": {
    "collapsed": false,
    "pycharm": {
     "name": "#%%\n"
    }
   }
  },
  {
   "cell_type": "markdown",
   "source": [
    "Constants"
   ],
   "metadata": {
    "collapsed": false,
    "pycharm": {
     "name": "#%% md\n"
    }
   }
  },
  {
   "cell_type": "code",
   "execution_count": null,
   "outputs": [],
   "source": [
    "# Population is different with each paper ..\n",
    "POPULATION_SIZE = 20\n",
    "MAX_FIT = 100000\n",
    "items, constraints, optimum = mkp.open_instance(\"../instances/gk/gk01.dat\")\n",
    "ITEMS = items[0]\n",
    "CONSTRAINTS = constraints[0]"
   ],
   "metadata": {
    "collapsed": false,
    "pycharm": {
     "name": "#%%\n"
    }
   }
  },
  {
   "cell_type": "markdown",
   "source": [
    "Deap modelling of MKP"
   ],
   "metadata": {
    "collapsed": false,
    "pycharm": {
     "name": "#%% md\n"
    }
   }
  },
  {
   "cell_type": "code",
   "execution_count": null,
   "outputs": [],
   "source": [
    "creator.create(\"Fitness\", base.Fitness, weights=(-1.0, 1.0))\n",
    "creator.create(\"Individual\", list, fitness=creator.Fitness)\n",
    "\n",
    "toolbox = base.Toolbox()\n",
    "\n",
    "# Get the already created population\n",
    "# TODO def a function to create our individuals (pseudo utility, random, ..) and use it below\n",
    "def pop():\n",
    "    pass\n",
    "\n",
    "def initPopulation(pcls, ind_init, file):\n",
    "    return pcls(ind_init(c) for c in file)\n",
    "toolbox.register(\"population\", initPopulation, list, creator.Individual, pop)"
   ],
   "metadata": {
    "collapsed": false,
    "pycharm": {
     "name": "#%%\n"
    }
   }
  }
 ],
 "metadata": {
  "kernelspec": {
   "display_name": "Python 3",
   "language": "python",
   "name": "python3"
  },
  "language_info": {
   "codemirror_mode": {
    "name": "ipython",
    "version": 2
   },
   "file_extension": ".py",
   "mimetype": "text/x-python",
   "name": "python",
   "nbconvert_exporter": "python",
   "pygments_lexer": "ipython2",
   "version": "2.7.6"
  }
 },
 "nbformat": 4,
 "nbformat_minor": 0
}